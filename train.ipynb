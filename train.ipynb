{
 "cells": [
  {
   "cell_type": "code",
   "execution_count": null,
   "metadata": {},
   "outputs": [],
   "source": [
    "!python train_yolo_scs_severe.py yolov8l.pt 0 512 30\n",
    "\n",
    "!python train_yolo_scs_severe.py yolov8l.pt 1 512 30\n",
    "\n",
    "!python train_yolo_scs.py yolov8l.pt 0 512 30\n",
    "\n",
    "!python train_yolo_scs.py yolov8l.pt 1 512 30"
   ]
  },
  {
   "cell_type": "code",
   "execution_count": null,
   "metadata": {},
   "outputs": [],
   "source": [
    "!python train_yolo_scs_severe.py yolov8l.pt 0 384 30\n",
    "\n",
    "!python train_yolo_scs_severe.py yolov8l.pt 1 384 30\n",
    "\n",
    "!python train_yolo_scs.py yolov8l.pt 0 384 30\n",
    "\n",
    "!python train_yolo_scs.py yolov8l.pt 1 384 30"
   ]
  },
  {
   "cell_type": "code",
   "execution_count": null,
   "metadata": {},
   "outputs": [],
   "source": [
    "!python train_yolo_ss_severe.py yolov8l.pt 0 512 35\n",
    "\n",
    "!python train_yolo_ss_severe.py yolov8l.pt 1 512 35\n",
    "\n",
    "!python train_yolo_ss.py yolov8l.pt 0 512 35\n",
    "\n",
    "!python train_yolo_ss.py yolov8l.pt 1 512 35"
   ]
  },
  {
   "cell_type": "code",
   "execution_count": null,
   "metadata": {},
   "outputs": [],
   "source": [
    "!python train_yolo_ss_severe.py yolov8l.pt 0 384 35\n",
    "\n",
    "!python train_yolo_ss_severe.py yolov8l.pt 1 384 35\n",
    "\n",
    "!python train_yolo_ss.py yolov8l.pt 0 384 35\n",
    "\n",
    "!python train_yolo_ss.py yolov8l.pt 1 384 35"
   ]
  },
  {
   "cell_type": "code",
   "execution_count": null,
   "metadata": {},
   "outputs": [],
   "source": [
    "!python train_yolo_nfn_severe.py yolov8l.pt 0 512 35\n",
    "\n",
    "!python train_yolo_nfn_severe.py yolov8l.pt 1 512 35\n",
    "\n",
    "!python train_yolo_nfn.py yolov8l.pt 0 512 35\n",
    "\n",
    "!python train_yolo_nfn.py yolov8l.pt 1 512 35"
   ]
  },
  {
   "cell_type": "code",
   "execution_count": null,
   "metadata": {},
   "outputs": [],
   "source": [
    "!python train_yolo_nfn_severe.py yolov8l.pt 0 384 35\n",
    "\n",
    "!python train_yolo_nfn_severe.py yolov8l.pt 1 384 35\n",
    "\n",
    "!python train_yolo_nfn.py yolov8l.pt 0 384 35\n",
    "\n",
    "!python train_yolo_nfn.py yolov8l.pt 1 384 35"
   ]
  }
 ],
 "metadata": {
  "kernelspec": {
   "display_name": "Python 3",
   "language": "python",
   "name": "python3"
  },
  "language_info": {
   "codemirror_mode": {
    "name": "ipython",
    "version": 3
   },
   "file_extension": ".py",
   "mimetype": "text/x-python",
   "name": "python",
   "nbconvert_exporter": "python",
   "pygments_lexer": "ipython3",
   "version": "3.8.5"
  }
 },
 "nbformat": 4,
 "nbformat_minor": 4
}
